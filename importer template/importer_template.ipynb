{
 "cells": [
  {
   "cell_type": "markdown",
   "metadata": {},
   "source": [
    "## Compare NIS Importer Template with Country Template"
   ]
  },
  {
   "cell_type": "markdown",
   "metadata": {},
   "source": [
    "### Set Up Requirements"
   ]
  },
  {
   "cell_type": "code",
   "execution_count": null,
   "metadata": {
    "vscode": {
     "languageId": "shellscript"
    }
   },
   "outputs": [],
   "source": [
    "pip install -r requirements.txt"
   ]
  },
  {
   "cell_type": "markdown",
   "metadata": {},
   "source": [
    "### Set up Macros and Packages"
   ]
  },
  {
   "cell_type": "code",
   "execution_count": null,
   "metadata": {},
   "outputs": [],
   "source": [
    "nis_download = r\"C:\\Users\\ebradfield\\OneDrive - Research Triangle Institute\\Act East\\NIS\\Importer File Compare\\sample data\\DEM- Demography_20240826.xlsx\"\n",
    "country_download = r\"C:\\Users\\ebradfield\\OneDrive - Research Triangle Institute\\Act East\\NIS\\Importer File Compare\\sample data\\DEM- Demography_20240829.xlsx\"\n",
    "summary_output= r\"C:\\Users\\ebradfield\\OneDrive - Research Triangle Institute\\Act East\\NIS\\Importer File Compare\\testreport.txt\"\n",
    "additions_deletions = r\"C:\\Users\\ebradfield\\OneDrive - Research Triangle Institute\\Act East\\NIS\\Importer File Compare\\additions_deletions.xlsx\"\n",
    "\n",
    "import pandas as pd \n",
    "import datacompy"
   ]
  },
  {
   "cell_type": "markdown",
   "metadata": {},
   "source": [
    "### Read in Recently Downloaded Importer Template"
   ]
  },
  {
   "cell_type": "code",
   "execution_count": null,
   "metadata": {},
   "outputs": [],
   "source": [
    "from_nis = pd.read_excel(io=f'{nis_download}', sheet_name =\"Data\", skiprows = 1)\n",
    "from_nis.columns.values[0] = \"Event UID\"\n",
    "from_nis.columns.values[1] = 'Organisation Unit*'\n",
    "from_nis.columns.values[2] = 'Event Date'\n",
    "from_nis.columns.values[3] = 'Latitude'\n",
    "from_nis.columns.values[4] = 'Longitude'\n",
    "from_nis.columns.values[5] = 'Status'\n",
    "from_nis.drop(0, inplace=True)\n",
    "print(from_nis)"
   ]
  },
  {
   "cell_type": "markdown",
   "metadata": {},
   "source": [
    "### Generate Summary of Recently Downloaded Importer Template"
   ]
  },
  {
   "cell_type": "code",
   "execution_count": null,
   "metadata": {},
   "outputs": [],
   "source": [
    "from_nis.nunique(axis=0, dropna=True)"
   ]
  },
  {
   "cell_type": "markdown",
   "metadata": {},
   "source": [
    "### Read in Template from Country Team"
   ]
  },
  {
   "cell_type": "code",
   "execution_count": null,
   "metadata": {},
   "outputs": [],
   "source": [
    "from_country = pd.read_excel(io=f'{country_download}', sheet_name =\"Data\", skiprows = 1)\n",
    "from_country.columns.values[0] = \"Event UID\"\n",
    "from_country.columns.values[1] = 'Organisation Unit*'\n",
    "from_country.columns.values[2] = 'Event Date'\n",
    "from_country.columns.values[3] = 'Latitude'\n",
    "from_country.columns.values[4] = 'Longitude'\n",
    "from_country.columns.values[5] = 'Status'\n",
    "from_country.drop(0, inplace=True)\n",
    "print(from_country)"
   ]
  },
  {
   "cell_type": "markdown",
   "metadata": {},
   "source": [
    "### Generate Summary of Template from Country Team"
   ]
  },
  {
   "cell_type": "code",
   "execution_count": null,
   "metadata": {},
   "outputs": [],
   "source": [
    "from_country.nunique(axis=0, dropna=True)"
   ]
  },
  {
   "cell_type": "markdown",
   "metadata": {},
   "source": [
    "### Merge Dataframes and Identify Discrepancies"
   ]
  },
  {
   "cell_type": "code",
   "execution_count": null,
   "metadata": {},
   "outputs": [],
   "source": [
    "compare = datacompy.Compare(from_nis, from_country, join_columns=['Event UID', 'Organisation Unit*'], df1_name='from_nis',\n",
    "    df2_name='from_country')\n",
    "\n",
    "print(compare.report(sample_count=1000000))"
   ]
  },
  {
   "cell_type": "markdown",
   "metadata": {},
   "source": [
    "### Output Summary File"
   ]
  },
  {
   "cell_type": "code",
   "execution_count": null,
   "metadata": {},
   "outputs": [],
   "source": [
    "print(compare.all_mismatch())\n",
    "with open(summary_output, 'w', encoding='utf-8') as report_file:\n",
    "    report_file.write(compare.report(sample_count=1000000))\n"
   ]
  },
  {
   "cell_type": "markdown",
   "metadata": {},
   "source": [
    "### Write Additions and Deletions to Excel File"
   ]
  },
  {
   "cell_type": "code",
   "execution_count": 10,
   "metadata": {},
   "outputs": [],
   "source": [
    "df1_new = compare.df1_unq_rows\n",
    "df2_new = compare.df2_unq_rows\n",
    "\n",
    "df1_new.to_excel(additions_deletions, sheet_name=\"From NIS\", index = False)\n",
    "\n",
    "with pd.ExcelWriter(additions_deletions, mode=\"a\", engine=\"openpyxl\") as writer:\n",
    "    df2_new.to_excel(writer, sheet_name = \"From Country\", index = False)"
   ]
  }
 ],
 "metadata": {
  "kernelspec": {
   "display_name": "Python 3",
   "language": "python",
   "name": "python3"
  },
  "language_info": {
   "codemirror_mode": {
    "name": "ipython",
    "version": 3
   },
   "file_extension": ".py",
   "mimetype": "text/x-python",
   "name": "python",
   "nbconvert_exporter": "python",
   "pygments_lexer": "ipython3",
   "version": "3.12.4"
  }
 },
 "nbformat": 4,
 "nbformat_minor": 2
}
