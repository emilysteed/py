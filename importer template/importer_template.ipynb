{
 "cells": [
  {
   "cell_type": "markdown",
   "metadata": {},
   "source": [
    "## Compare NIS Importer Template with Country Template"
   ]
  },
  {
   "cell_type": "markdown",
   "metadata": {},
   "source": [
    "### Set Up Requirements"
   ]
  },
  {
   "cell_type": "code",
   "execution_count": null,
   "metadata": {
    "vscode": {
     "languageId": "shellscript"
    }
   },
   "outputs": [],
   "source": [
    "pip install -r assets/requirements.txt"
   ]
  },
  {
   "cell_type": "markdown",
   "metadata": {},
   "source": [
    "### Set up Macros and Packages"
   ]
  },
  {
   "cell_type": "code",
   "execution_count": 14,
   "metadata": {},
   "outputs": [],
   "source": [
    "nis_download = r\"nis_dowload.xlsx\"\n",
    "country_download = r\"country_download.xlsx\"\n",
    "summary_output= r\"summary_output.txt\"\n",
    "\n",
    "import pandas as pd \n",
    "import datacompy"
   ]
  },
  {
   "cell_type": "markdown",
   "metadata": {},
   "source": [
    "### Read in Recently Downloaded Importer Template"
   ]
  },
  {
   "cell_type": "code",
   "execution_count": null,
   "metadata": {},
   "outputs": [],
   "source": [
    "from_nis = pd.read_excel(io=f'{nis_download}', sheet_name =\"Data\", skiprows = 1)\n",
    "from_nis.columns.values[0] = \"Event UID\"\n",
    "from_nis.columns.values[1] = 'Organisation Unit*'\n",
    "from_nis.columns.values[2] = 'Event Date'\n",
    "from_nis.columns.values[3] = 'Latitude'\n",
    "from_nis.columns.values[4] = 'Longitude'\n",
    "from_nis.columns.values[5] = 'Status'\n",
    "from_nis.drop(0, inplace=True)\n",
    "print(from_nis)"
   ]
  },
  {
   "cell_type": "markdown",
   "metadata": {},
   "source": [
    "### Generate Summary Statistics for Recently Downloaded Importer Template"
   ]
  },
  {
   "cell_type": "code",
   "execution_count": null,
   "metadata": {},
   "outputs": [],
   "source": [
    "list(from_nis)"
   ]
  },
  {
   "cell_type": "markdown",
   "metadata": {},
   "source": [
    "### Read in Template from Country Team"
   ]
  },
  {
   "cell_type": "code",
   "execution_count": null,
   "metadata": {},
   "outputs": [],
   "source": [
    "from_country = pd.read_excel(io=f'{country_download}', sheet_name =\"Data\", skiprows = 1)\n",
    "from_country.columns.values[0] = \"Event UID\"\n",
    "from_country.columns.values[1] = 'Organisation Unit*'\n",
    "from_country.columns.values[2] = 'Event Date'\n",
    "from_country.columns.values[3] = 'Latitude'\n",
    "from_country.columns.values[4] = 'Longitude'\n",
    "from_country.columns.values[5] = 'Status'\n",
    "from_country.drop(0, inplace=True)\n",
    "print(from_country)"
   ]
  },
  {
   "cell_type": "markdown",
   "metadata": {},
   "source": [
    "### Generate Summary Statistics for Template from Country Team"
   ]
  },
  {
   "cell_type": "code",
   "execution_count": null,
   "metadata": {},
   "outputs": [],
   "source": [
    "list(from_country)"
   ]
  },
  {
   "cell_type": "markdown",
   "metadata": {},
   "source": [
    "### Merge Dataframes and Identify Discrepancies"
   ]
  },
  {
   "cell_type": "code",
   "execution_count": null,
   "metadata": {},
   "outputs": [],
   "source": [
    "compare = datacompy.Compare(from_nis, from_country, join_columns=['Event UID', 'Organisation Unit*'])\n",
    "\n",
    "print(compare.report(sample_count=1000000))"
   ]
  },
  {
   "cell_type": "markdown",
   "metadata": {},
   "source": [
    "### Output Summary File"
   ]
  },
  {
   "cell_type": "code",
   "execution_count": null,
   "metadata": {},
   "outputs": [],
   "source": [
    "print(compare.all_mismatch())\n",
    "with open(summary_output, 'w', encoding='utf-8') as report_file:\n",
    "    report_file.write(compare.report())\n"
   ]
  }
 ],
 "metadata": {
  "kernelspec": {
   "display_name": "Python 3",
   "language": "python",
   "name": "python3"
  },
  "language_info": {
   "codemirror_mode": {
    "name": "ipython",
    "version": 3
   },
   "file_extension": ".py",
   "mimetype": "text/x-python",
   "name": "python",
   "nbconvert_exporter": "python",
   "pygments_lexer": "ipython3",
   "version": "3.12.4"
  }
 },
 "nbformat": 4,
 "nbformat_minor": 2
}
